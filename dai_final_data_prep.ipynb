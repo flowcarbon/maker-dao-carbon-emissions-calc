{
 "cells": [
  {
   "cell_type": "code",
   "execution_count": 1,
   "id": "aa4eaffb-7120-457c-adb7-7739729eaaf0",
   "metadata": {},
   "outputs": [],
   "source": [
    "import pandas as pd\n",
    "import numpy as np\n",
    "import matplotlib.pyplot as plt\n",
    "import seaborn as sns\n",
    "\n",
    "from sqlalchemy import create_engine\n",
    "import pandas.io.sql as psql\n",
    "\n",
    "DB_NAME = 'postgres'\n",
    "DB_USER = 'postgres'\n",
    "DB_HOST = 'maker.clz4w9qelxfy.us-east-1.rds.amazonaws.com'\n",
    "DB_PASSWORD = 'Hjp6MKSM6atRbgzgzpsis4P9k8aA'\n",
    "DB_PORT = '5432'\n",
    "\n",
    "engine = create_engine(f\"postgresql://{DB_USER}:{DB_PASSWORD}@{DB_HOST}:{DB_PORT}/{DB_NAME}\")"
   ]
  },
  {
   "cell_type": "code",
   "execution_count": 2,
   "id": "7dc318d7-370f-4a88-b43d-d877901b5a2b",
   "metadata": {},
   "outputs": [],
   "source": [
    "TABLE_NAME = 'dai_2021_v2'"
   ]
  },
  {
   "cell_type": "code",
   "execution_count": 5,
   "id": "136196b8-fde5-4a05-8b13-a9d30a41fc30",
   "metadata": {},
   "outputs": [],
   "source": [
    "dai = psql.read_sql(\n",
    "    f\"SELECT address, num_tx, smart_contract, origin FROM {TABLE_NAME}\", \n",
    "    engine.connect()\n",
    ")"
   ]
  },
  {
   "cell_type": "code",
   "execution_count": 7,
   "id": "7239aea5-5177-43da-a4a9-e8ff0db41290",
   "metadata": {},
   "outputs": [
    {
     "data": {
      "text/html": [
       "<div>\n",
       "<style scoped>\n",
       "    .dataframe tbody tr th:only-of-type {\n",
       "        vertical-align: middle;\n",
       "    }\n",
       "\n",
       "    .dataframe tbody tr th {\n",
       "        vertical-align: top;\n",
       "    }\n",
       "\n",
       "    .dataframe thead th {\n",
       "        text-align: right;\n",
       "    }\n",
       "</style>\n",
       "<table border=\"1\" class=\"dataframe\">\n",
       "  <thead>\n",
       "    <tr style=\"text-align: right;\">\n",
       "      <th></th>\n",
       "      <th>address</th>\n",
       "      <th>num_tx</th>\n",
       "      <th>smart_contract</th>\n",
       "      <th>origin</th>\n",
       "    </tr>\n",
       "  </thead>\n",
       "  <tbody>\n",
       "    <tr>\n",
       "      <th>0</th>\n",
       "      <td>0xd56b006346576ac8c6077698151d19bec622fcc3</td>\n",
       "      <td>2</td>\n",
       "      <td>False</td>\n",
       "      <td>wallet</td>\n",
       "    </tr>\n",
       "    <tr>\n",
       "      <th>1</th>\n",
       "      <td>0xe592427a0aece92de3edee1f18e0157c05861564</td>\n",
       "      <td>227225</td>\n",
       "      <td>True</td>\n",
       "      <td>SwapRouter</td>\n",
       "    </tr>\n",
       "    <tr>\n",
       "      <th>2</th>\n",
       "      <td>0x680388176be9e88d2b0dd235ef6c0f80107068f8</td>\n",
       "      <td>2</td>\n",
       "      <td>False</td>\n",
       "      <td>wallet</td>\n",
       "    </tr>\n",
       "    <tr>\n",
       "      <th>3</th>\n",
       "      <td>0x6d1a89e965678eb0a21cf8c7dbbb0e52d3e9f408</td>\n",
       "      <td>77</td>\n",
       "      <td>False</td>\n",
       "      <td>wallet</td>\n",
       "    </tr>\n",
       "    <tr>\n",
       "      <th>4</th>\n",
       "      <td>0x503828976d22510aad0201ac7ec88293211d23da</td>\n",
       "      <td>140379</td>\n",
       "      <td>False</td>\n",
       "      <td>exchange</td>\n",
       "    </tr>\n",
       "  </tbody>\n",
       "</table>\n",
       "</div>"
      ],
      "text/plain": [
       "                                      address  num_tx smart_contract  \\\n",
       "0  0xd56b006346576ac8c6077698151d19bec622fcc3       2          False   \n",
       "1  0xe592427a0aece92de3edee1f18e0157c05861564  227225           True   \n",
       "2  0x680388176be9e88d2b0dd235ef6c0f80107068f8       2          False   \n",
       "3  0x6d1a89e965678eb0a21cf8c7dbbb0e52d3e9f408      77          False   \n",
       "4  0x503828976d22510aad0201ac7ec88293211d23da  140379          False   \n",
       "\n",
       "       origin  \n",
       "0      wallet  \n",
       "1  SwapRouter  \n",
       "2      wallet  \n",
       "3      wallet  \n",
       "4    exchange  "
      ]
     },
     "execution_count": 7,
     "metadata": {},
     "output_type": "execute_result"
    }
   ],
   "source": [
    "dai.head()"
   ]
  },
  {
   "cell_type": "code",
   "execution_count": 8,
   "id": "b4dc4923-3b77-4af1-9a62-c153b3ec3ee1",
   "metadata": {},
   "outputs": [
    {
     "data": {
      "text/plain": [
       "810755"
      ]
     },
     "execution_count": 8,
     "metadata": {},
     "output_type": "execute_result"
    }
   ],
   "source": [
    "dai.shape[0]"
   ]
  },
  {
   "cell_type": "code",
   "execution_count": 9,
   "id": "c4770a44-0352-432b-8a00-e00ec3d1ef84",
   "metadata": {},
   "outputs": [
    {
     "data": {
      "text/plain": [
       "(810755, 810755)"
      ]
     },
     "execution_count": 9,
     "metadata": {},
     "output_type": "execute_result"
    }
   ],
   "source": [
    "dai['address'].nunique(), dai['address'].str.lower().nunique()"
   ]
  },
  {
   "cell_type": "code",
   "execution_count": 13,
   "id": "96bf8064-d356-45eb-8ef6-290fa4d6dd67",
   "metadata": {},
   "outputs": [],
   "source": [
    "dai['smart_contract'] = dai['smart_contract'].fillna(False)"
   ]
  },
  {
   "cell_type": "code",
   "execution_count": 14,
   "id": "a8b5ac8c-74fa-4df4-81cb-375a4bdec8e5",
   "metadata": {},
   "outputs": [],
   "source": [
    "dai.to_csv('dai_tx_2021.csv', index=False)"
   ]
  },
  {
   "cell_type": "markdown",
   "id": "3da6b3d0-4ac2-426f-94bf-9f9ab5993562",
   "metadata": {},
   "source": [
    "## Raw Transactions for timeseries"
   ]
  },
  {
   "cell_type": "code",
   "execution_count": 24,
   "id": "295afaf5-80d5-49de-b40a-ffe8a440790e",
   "metadata": {},
   "outputs": [],
   "source": [
    "ts_hash = psql.read_sql(\n",
    "    \"SELECT timestamp, hash FROM txes\",\n",
    "    engine.connect()\n",
    ")"
   ]
  },
  {
   "cell_type": "code",
   "execution_count": 25,
   "id": "a2d4cb4d-08e1-4298-a64f-07c547cc0dae",
   "metadata": {},
   "outputs": [
    {
     "data": {
      "text/html": [
       "<div>\n",
       "<style scoped>\n",
       "    .dataframe tbody tr th:only-of-type {\n",
       "        vertical-align: middle;\n",
       "    }\n",
       "\n",
       "    .dataframe tbody tr th {\n",
       "        vertical-align: top;\n",
       "    }\n",
       "\n",
       "    .dataframe thead th {\n",
       "        text-align: right;\n",
       "    }\n",
       "</style>\n",
       "<table border=\"1\" class=\"dataframe\">\n",
       "  <thead>\n",
       "    <tr style=\"text-align: right;\">\n",
       "      <th></th>\n",
       "      <th>timestamp</th>\n",
       "      <th>hash</th>\n",
       "    </tr>\n",
       "  </thead>\n",
       "  <tbody>\n",
       "    <tr>\n",
       "      <th>0</th>\n",
       "      <td>2022-03-06 06:26:10+00:00</td>\n",
       "      <td>0x4a5febb2d156d356c2e27a70337ceee5ffc8c0dcd704...</td>\n",
       "    </tr>\n",
       "    <tr>\n",
       "      <th>1</th>\n",
       "      <td>2022-03-06 06:26:10+00:00</td>\n",
       "      <td>0x4943b5e03e1be6d968b25b92f32fa06146801c5b673e...</td>\n",
       "    </tr>\n",
       "    <tr>\n",
       "      <th>2</th>\n",
       "      <td>2022-03-06 06:26:10+00:00</td>\n",
       "      <td>0x86489ee3a092d7f47373ae1946ebaffe77242cb0e646...</td>\n",
       "    </tr>\n",
       "    <tr>\n",
       "      <th>3</th>\n",
       "      <td>2022-03-06 06:26:10+00:00</td>\n",
       "      <td>0x387336a0d71948ddad0525e4d5f670882e3234b9f0b5...</td>\n",
       "    </tr>\n",
       "    <tr>\n",
       "      <th>4</th>\n",
       "      <td>2022-03-06 06:26:10+00:00</td>\n",
       "      <td>0x78bca0b175794abedfc6fbf4ba939cf8ae59982d1637...</td>\n",
       "    </tr>\n",
       "  </tbody>\n",
       "</table>\n",
       "</div>"
      ],
      "text/plain": [
       "                  timestamp                                               hash\n",
       "0 2022-03-06 06:26:10+00:00  0x4a5febb2d156d356c2e27a70337ceee5ffc8c0dcd704...\n",
       "1 2022-03-06 06:26:10+00:00  0x4943b5e03e1be6d968b25b92f32fa06146801c5b673e...\n",
       "2 2022-03-06 06:26:10+00:00  0x86489ee3a092d7f47373ae1946ebaffe77242cb0e646...\n",
       "3 2022-03-06 06:26:10+00:00  0x387336a0d71948ddad0525e4d5f670882e3234b9f0b5...\n",
       "4 2022-03-06 06:26:10+00:00  0x78bca0b175794abedfc6fbf4ba939cf8ae59982d1637..."
      ]
     },
     "execution_count": 25,
     "metadata": {},
     "output_type": "execute_result"
    }
   ],
   "source": [
    "ts_hash.head()"
   ]
  },
  {
   "cell_type": "code",
   "execution_count": 26,
   "id": "6d88cbbe-9192-4064-ba7f-5eb2d9cb6b7e",
   "metadata": {},
   "outputs": [],
   "source": [
    "ts_hash.to_csv('ts_hash.csv')"
   ]
  },
  {
   "cell_type": "code",
   "execution_count": null,
   "id": "7869450e-c93d-4cf2-87cf-de7638b53718",
   "metadata": {},
   "outputs": [],
   "source": []
  }
 ],
 "metadata": {
  "kernelspec": {
   "display_name": "Python 3 (ipykernel)",
   "language": "python",
   "name": "python3"
  },
  "language_info": {
   "codemirror_mode": {
    "name": "ipython",
    "version": 3
   },
   "file_extension": ".py",
   "mimetype": "text/x-python",
   "name": "python",
   "nbconvert_exporter": "python",
   "pygments_lexer": "ipython3",
   "version": "3.8.10"
  }
 },
 "nbformat": 4,
 "nbformat_minor": 5
}
